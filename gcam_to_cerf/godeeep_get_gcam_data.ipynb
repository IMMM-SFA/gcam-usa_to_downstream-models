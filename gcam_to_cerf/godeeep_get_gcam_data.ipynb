{
 "cells": [
  {
   "cell_type": "code",
   "execution_count": null,
   "id": "8bab69c2-64a4-46fd-a134-5cacdbb2e2b5",
   "metadata": {},
   "outputs": [],
   "source": [
    "import gcamreader\n",
    "import numpy as np\n",
    "import pandas as pd\n",
    "import pyarrow as pa\n"
   ]
  },
  {
   "cell_type": "code",
   "execution_count": null,
   "id": "8442460c-206c-43db-8cf9-38c433da6869",
   "metadata": {},
   "outputs": [],
   "source": [
    "# TODO: once this code is tested on IM3 data, convert to a convenient Python method"
   ]
  },
  {
   "cell_type": "markdown",
   "id": "a8d5e477-75e0-4305-882d-cb97c2b8cc7e",
   "metadata": {},
   "source": [
    "### All the files needed to get the CERF-required GCAM-USA outputs"
   ]
  },
  {
   "cell_type": "code",
   "execution_count": null,
   "id": "a568ca6e-7cfb-4080-8536-f022557f7142",
   "metadata": {},
   "outputs": [],
   "source": [
    "gcam_scenario = 'NZ_Climate'\n",
    "gcam_prefix = 'database_02b_'\n",
    "\n",
    "\n",
    "gcam_db_path = '/Users/thur961/godeeep/GCAM_IRA_SCENARIOS'\n",
    "gcam_db_file = f'{gcam_prefix}{gcam_scenario}'\n",
    "\n",
    "query_path = '/Users/thur961/godeeep/godeeep/GCAM-to-CERF/subSetQueries.xml'\n",
    "\n",
    "generation_query_name = 'elec gen by gen tech and cooling tech (incl cogen)'\n",
    "heat_rate_query_name = 'elec coeff'\n",
    "prices_query_name = 'prices by sector'\n",
    "\n",
    "tech_mapping_file = '/Users/thur961/godeeep/gcam-central-net-zero/GCAMUSA_GODEEEP/input/gcamdata/inst/extdata/gcam-usa/A23.elecS_tech_mapping_cool.csv'\n",
    "\n",
    "capacity_factor_conventional_file = '/Users/thur961/godeeep/gcam-central-net-zero/GCAMUSA_GODEEEP/input/gcamdata/outputs/L2233.GlobalTechCapFac_elecS_cool_USA.csv' # (same for all states)\n",
    "capacity_factor_wind_file = '/Users/thur961/godeeep/gcam-central-net-zero/GCAMUSA_GODEEEP/input/gcamdata/outputs/L2237.StubTechCapFactor_wind_reeds_USA.csv' # (differ by state)\n",
    "capacity_factor_pv_file = '/Users/thur961/godeeep/gcam-central-net-zero/GCAMUSA_GODEEEP/input/gcamdata/outputs/L2238.StubTechCapFactor_PV_reeds_USA.csv' # (differ by state)\n",
    "capacity_factor_csp_file = '/Users/thur961/godeeep/gcam-central-net-zero/GCAMUSA_GODEEEP/input/gcamdata/outputs/L2239.StubTechCapFactor_CSP_reeds_USA.csv' # (differ by state)\n",
    "nrel_renewables_capacity_factor_file = '/Users/thur961/godeeep/gcam-central-net-zero/GCAMUSA_GODEEEP/input/gcamdata/inst/extdata/gcam-usa/NREL_us_re_capacity_factors.csv' # (differ by state)\n",
    "\n",
    "fixed_operation_and_maintenance_cost_files = [\n",
    "    '/Users/thur961/godeeep/gcam-central-net-zero/GCAMUSA_GODEEEP/input/gcamdata/outputs/L2233.GlobalTechOMfixed_elecS_cool_USA.csv',\n",
    "    '/Users/thur961/godeeep/gcam-central-net-zero/GCAMUSA_GODEEEP/input/gcamdata/outputs/L2233.GlobalIntTechOMfixed_elecS_cool_USA.csv',\n",
    "    '/Users/thur961/godeeep/gcam-central-net-zero/GCAMUSA_GODEEEP/input/gcamdata/outputs/L2241.GlobalTechOMfixed_coal_vintage_USA.csv',\n",
    "    '/Users/thur961/godeeep/gcam-central-net-zero/GCAMUSA_GODEEEP/input/gcamdata/outputs/L2241.GlobalTechOMfixed_elec_coalret_USA.csv',\n",
    "]\n",
    "\n",
    "variable_operation_and_maintenance_cost_files = [\n",
    "    '/Users/thur961/godeeep/gcam-central-net-zero/GCAMUSA_GODEEEP/input/gcamdata/outputs/L2233.GlobalTechOMvar_elecS_cool_USA.csv',\n",
    "    '/Users/thur961/godeeep/gcam-central-net-zero/GCAMUSA_GODEEEP/input/gcamdata/outputs/L2233.GlobalIntTechOMvar_elecS_cool_USA.csv',\n",
    "    '/Users/thur961/godeeep/gcam-central-net-zero/GCAMUSA_GODEEEP/input/gcamdata/outputs/L2241.GlobalTechOMvar_coal_vintage_USA.csv',\n",
    "    '/Users/thur961/godeeep/gcam-central-net-zero/GCAMUSA_GODEEEP/input/gcamdata/outputs/L2241.GlobalTechOMvar_elec_coalret_USA.csv',\n",
    "]\n",
    "\n",
    "carbon_content_files = [\n",
    "    '/Users/thur961/godeeep/gcam-central-net-zero/GCAMUSA_GODEEEP/input/gcamdata/outputs/L202.CarbonCoef.csv',\n",
    "    '/Users/thur961/godeeep/gcam-central-net-zero/GCAMUSA_GODEEEP/input/gcamdata/outputs/L222.CarbonCoef_en_USA.csv',\n",
    "    '/Users/thur961/godeeep/gcam-central-net-zero/GCAMUSA_GODEEEP/input/gcamdata/outputs/L2261.CarbonCoef_bio_USA.csv',\n",
    "]\n",
    "\n",
    "carbon_capture_file = '/Users/thur961/godeeep/gcam-central-net-zero/GCAMUSA_GODEEEP/input/gcamdata/outputs/L2233.GlobalTechCapture_elec_cool.csv'\n",
    "\n",
    "lifetime_files = [\n",
    "    '/Users/thur961/godeeep/gcam-central-net-zero/GCAMUSA_GODEEEP/input/gcamdata/outputs/L2233.GlobalTechLifetime_elecS_cool_USA.csv',\n",
    "    '/Users/thur961/godeeep/gcam-central-net-zero/GCAMUSA_GODEEEP/input/gcamdata/outputs/L2233.GlobalIntTechLifetime_elecS_cool_USA.csv',\n",
    "]\n",
    "\n",
    "lifetime_parameter_files = [\n",
    "    '/Users/thur961/godeeep/gcam-central-net-zero/GCAMUSA_GODEEEP/input/gcamdata/outputs/L2244.StubTechSCurve_nuc_gen2_USA.csv',\n",
    "    '/Users/thur961/godeeep/gcam-central-net-zero/GCAMUSA_GODEEEP/input/gcamdata/outputs/L2233.StubTechSCurve_elecS_cool_USA.csv',\n",
    "    '/Users/thur961/godeeep/gcam-central-net-zero/GCAMUSA_GODEEEP/input/gcamdata/outputs/L2233.GlobalTechSCurve_elecS_cool_USA.csv',\n",
    "]\n"
   ]
  },
  {
   "cell_type": "code",
   "execution_count": null,
   "id": "815cb378-1e36-49da-bce9-b994d57480ae",
   "metadata": {},
   "outputs": [],
   "source": []
  },
  {
   "cell_type": "markdown",
   "id": "837d0574-0ba4-4cfc-99d6-9f3e77802434",
   "metadata": {},
   "source": [
    "### Conversions and mappings"
   ]
  },
  {
   "cell_type": "code",
   "execution_count": null,
   "id": "21ad11b0-ff9e-451f-895d-cc4467fcb10b",
   "metadata": {},
   "outputs": [],
   "source": [
    "# lifted from gcamextractor\n",
    "EXAJOULES_TO_GIGAWATTS = 277.77777777778 * 1000 / 8760\n",
    "BRITISH_THERMAL_UNITS_PER_KILOWATT_HOUR = 3412.14\n",
    "GIGAJOULES_TO_MEGA_BRITISH_THERMAL_UNITS = 0.947817120\n",
    "ATOMIC_WEIGHT_OF_CO2_PER_ATOMIC_WEIGHT_OF_CARBON = 44 / 12\n",
    "TONS_PER_KG = 1e-3\n",
    "MEGAWATT_HOURS_PER_GIGAJOULE = 0.277777778\n",
    "MEGA_BRITISH_THERMAL_UNITS_PER_MEGAWATT_HOUR = 3.412e6\n",
    "REGION_TO_STATES = {\n",
    "    \"Alaska grid\": [\"AK\"],\n",
    "    \"California grid\": [\"CA\"],\n",
    "    \"Central East grid\": [\"IN\", \"KY\", \"MI\", \"OH\", \"WV\"],\n",
    "    \"Central Northeast grid\": [\"IL\", \"MO\", \"WI\"],\n",
    "    \"Central Northwest grid\": [\"IA\", \"MN\", \"ND\", \"NE\", \"SD\"],\n",
    "    \"Central Southwest grid\": [\"KS\", \"OK\"],\n",
    "    \"Florida grid\": [\"FL\"],\n",
    "    \"Hawaii grid\": [\"HI\"],\n",
    "    \"Mid-Atlantic grid\": [\"DC\", \"DE\", \"MD\", \"NJ\", \"PA\"],\n",
    "    \"New England grid\": [\"CT\", \"MA\", \"ME\", \"NH\", \"RI\", \"VT\"],\n",
    "    \"New York grid\": [\"NY\"],\n",
    "    \"Northwest grid\": [\"ID\", \"MT\", \"NV\", \"OR\", \"UT\", \"WA\"],\n",
    "    \"Southeast grid\": [\"AL\", \"AR\", \"GA\", \"LA\", \"MS\", \"NC\", \"SC\", \"TN\", \"VA\"],\n",
    "    \"Southwest grid\": [\"AZ\", \"CO\", \"NM\", \"WY\"],\n",
    "    \"Texas grid\": [\"TX\"],\n",
    "}\n",
    "STATE_ABBREVIATIONS_TO_NAMES = {\n",
    "    'AB': 'alberta', 'AK': 'alaska', 'AL': 'alabama', 'AR': 'arkansas', 'AZ': 'arizona',\n",
    "    'CA': 'california', 'BC': 'british_columbia', 'MX': 'mexico',\n",
    "    'CO': 'colorado', 'CT': 'connecticut', 'DC': 'district_of_columbia', 'DE': 'delaware',\n",
    "    'FL': 'florida', 'GA': 'georgia', 'HI': 'hawaii', 'IA': 'iowa', 'ID': 'idaho', 'IL': 'illinois',\n",
    "    'IN': 'indiana', 'KS': 'kansas', 'KY': 'kentucky', 'LA': 'louisiana', 'MA': 'massachusetts',\n",
    "    'MD': 'maryland', 'ME': 'maine', 'MI': 'michigan', 'MN': 'minnesota', 'MO': 'missouri',\n",
    "    'MS': 'mississippi', 'MT': 'montana', 'NC': 'north_carolina', 'ND': 'north_dakota',\n",
    "    'NE': 'nebraska', 'NH': 'new_hampshire', 'NJ': 'new_jersey', 'NM': 'new_mexico', 'NV': 'nevada',\n",
    "    'NY': 'new_york', 'OH': 'ohio', 'OK': 'oklahoma', 'OR': 'oregon', 'PA': 'pennsylvania',\n",
    "    'RI': 'rhode_island', 'SC': 'south_carolina', 'SD': 'south_dakota', 'TN': 'tennessee',\n",
    "    'TX': 'texas', 'UT': 'utah', 'VA': 'virginia', 'VT': 'vermont', 'WA': 'washington',\n",
    "    'WI': 'wisconsin', 'WV': 'west_virginia', 'WY': 'wyoming'\n",
    "}\n",
    "ALL_STATES = sorted([s for states in REGION_TO_STATES.values() for s in states])"
   ]
  },
  {
   "cell_type": "code",
   "execution_count": null,
   "id": "15d68027-075f-487a-a9eb-d80d70b85d73",
   "metadata": {},
   "outputs": [],
   "source": []
  },
  {
   "cell_type": "markdown",
   "id": "451a49f0-638a-440d-8d67-282787de029e",
   "metadata": {},
   "source": [
    "### Create the connection to the GCAM-USA output database"
   ]
  },
  {
   "cell_type": "code",
   "execution_count": null,
   "id": "68ae3d70-b550-4122-9a41-4298c77fb724",
   "metadata": {},
   "outputs": [],
   "source": [
    "conn = gcamreader.LocalDBConn(gcam_db_path, gcam_db_file)\n"
   ]
  },
  {
   "cell_type": "code",
   "execution_count": null,
   "id": "bd0b3d5e-94b6-487f-8a2d-956bee3d427c",
   "metadata": {},
   "outputs": [],
   "source": []
  },
  {
   "cell_type": "markdown",
   "id": "4dc2f162-bbcd-4c30-ac51-437f42efae6c",
   "metadata": {},
   "source": [
    "### List of queries available in the XML query file"
   ]
  },
  {
   "cell_type": "code",
   "execution_count": null,
   "id": "b27d869c-c40e-4bbe-83e8-cbb7e131a4e6",
   "metadata": {},
   "outputs": [],
   "source": [
    "queries = gcamreader.parse_batch_query(query_path)\n"
   ]
  },
  {
   "cell_type": "code",
   "execution_count": null,
   "id": "767db78d-919f-4415-b2ea-b05bef7ade0f",
   "metadata": {},
   "outputs": [],
   "source": []
  },
  {
   "cell_type": "markdown",
   "id": "fec80a30-d455-474f-a9b3-e63f158f73f2",
   "metadata": {},
   "source": [
    "### Helper methods"
   ]
  },
  {
   "cell_type": "code",
   "execution_count": null,
   "id": "797f6395-3e92-4140-b9d2-be63da6e789c",
   "metadata": {},
   "outputs": [],
   "source": [
    "def get_query_by_name(queries, name):\n",
    "    return next((x for x in queries if x.title == name), None)\n"
   ]
  },
  {
   "cell_type": "code",
   "execution_count": null,
   "id": "ee9296f2-edb6-4919-8e8b-9876fd062173",
   "metadata": {},
   "outputs": [],
   "source": [
    "def deflate_gdp(year, base_year):\n",
    "    # this was lifted from gcamextractor\n",
    "    start_year = 1929\n",
    "    factors = np.array([\n",
    "        9.896, 9.535, 8.555, 7.553, 7.345, 7.749, 7.908, 8.001, 8.347,\n",
    "        8.109, 8.033, 8.131, 8.68, 9.369, 9.795, 10.027, 10.288, 11.618,\n",
    "        12.887, 13.605, 13.581, 13.745, 14.716, 14.972, 15.157, 15.298,\n",
    "        15.559, 16.091, 16.625, 17.001, 17.237, 17.476, 17.669, 17.886,\n",
    "        18.088, 18.366, 18.702, 19.227, 19.786, 20.627, 21.642, 22.784,\n",
    "        23.941, 24.978, 26.337, 28.703, 31.361, 33.083, 35.135, 37.602,\n",
    "        40.706, 44.377, 48.52, 51.53, 53.565, 55.466, 57.24, 58.395,\n",
    "        59.885, 61.982, 64.392, 66.773, 68.996, 70.569, 72.248, 73.785,\n",
    "        75.324, 76.699, 78.012, 78.859, 80.065, 81.887, 83.754, 85.039,\n",
    "        86.735, 89.12, 91.988, 94.814, 97.337, 99.246, 100, 101.221,\n",
    "        103.311, 105.214, 106.913, 108.828, 109.998, 111.445, 113.545,\n",
    "        116.311, 118.339\n",
    "    ])\n",
    "    return factors[year - start_year] / factors[base_year - start_year]\n"
   ]
  },
  {
   "cell_type": "code",
   "execution_count": null,
   "id": "59909d0e-201b-4465-bf75-50440c5d7b6e",
   "metadata": {},
   "outputs": [],
   "source": [
    "def grid_region_to_state(df) -> pd.DataFrame:\n",
    "    def region_to_list(r):\n",
    "        if r in REGION_TO_STATES:\n",
    "            return REGION_TO_STATES[r]\n",
    "        else:\n",
    "            return [r]\n",
    "    df['region'] = df.region.apply(region_to_list)\n",
    "    df = df.explode('region', ignore_index=True)\n",
    "    return df\n"
   ]
  },
  {
   "cell_type": "code",
   "execution_count": null,
   "id": "fc0b0d3f-40f6-4a1c-9098-0ba9e18e5612",
   "metadata": {},
   "outputs": [],
   "source": [
    "def get_escalation_rate(df, column, groupby, name, axis='year') -> pd.DataFrame:\n",
    "    escalation_rate = df.copy()\n",
    "    escalation_rate[axis] = escalation_rate[axis] - escalation_rate.groupby(groupby)[axis].diff()\n",
    "    escalation_rate = escalation_rate.rename(columns={column: name})\n",
    "    escalation_rate = escalation_rate.merge(df, how='left', on=[axis, *groupby])\n",
    "    escalation_rate[name] = (escalation_rate[name] - escalation_rate[column]) / escalation_rate[column]\n",
    "    escalation_rate[axis] = df[axis]\n",
    "    return escalation_rate.drop(columns=[column])\n"
   ]
  },
  {
   "cell_type": "code",
   "execution_count": null,
   "id": "3d1e14a4-1483-45d7-abe7-dc3e11272620",
   "metadata": {},
   "outputs": [],
   "source": [
    "def standardize_format(\n",
    "    df,\n",
    "    param,\n",
    "    classLabel1,\n",
    "    units,\n",
    "    valueColumn,\n",
    "    class1 = 'n/a',\n",
    "    class1Column = None,\n",
    "    vintageColumn='vintage',\n",
    "    xColumn='year',\n",
    "    xLabel='Year',\n",
    "    classLabel2='technology',\n",
    "    class2Column='technology',\n",
    "    subRegionColumn='region',\n",
    "    region='USA',\n",
    "    scenario=f'Main_database_basexdb_{gcam_scenario}',\n",
    ") -> pd.DataFrame:\n",
    "    clone = df.copy()\n",
    "    if vintageColumn in clone.columns:\n",
    "        clone['vintage'] = 'Vint_' + clone[vintageColumn].astype(int).astype(str)\n",
    "    else:\n",
    "        clone['vintage'] = 'Vint_2015'\n",
    "    clone = clone.rename(columns={\n",
    "        class2Column: 'class2',\n",
    "        subRegionColumn: 'subRegion',\n",
    "        valueColumn: 'value',\n",
    "        xColumn: 'x',\n",
    "    })\n",
    "    if not 'x' in clone.columns:\n",
    "        clone['x'] = 2015\n",
    "    clone['scenario'] = scenario\n",
    "    clone['region'] = region\n",
    "    clone['xLabel'] = xLabel\n",
    "    clone['classLabel2'] = classLabel2\n",
    "    if class1Column is not None:\n",
    "        clone['class1'] = clone[class1Column]\n",
    "    else:\n",
    "        clone['class1'] = class1\n",
    "    clone['classLabel1'] = classLabel1\n",
    "    clone['param'] = param\n",
    "    clone['units'] = units\n",
    "    clone['x'] = clone['x'].astype(int)\n",
    "    return clone[['scenario', 'region', 'subRegion', 'param', 'classLabel1', 'class1', 'classLabel2', 'class2', 'xLabel', 'x', 'vintage', 'units', 'value']].reset_index(drop=True)"
   ]
  },
  {
   "cell_type": "code",
   "execution_count": null,
   "id": "68a33cef-7ac4-4ef1-abb4-bd77b037cf7c",
   "metadata": {},
   "outputs": [],
   "source": []
  },
  {
   "cell_type": "markdown",
   "id": "788a0c81-7de1-4eb2-af01-1288016c5939",
   "metadata": {},
   "source": [
    "## Capacity"
   ]
  },
  {
   "cell_type": "markdown",
   "id": "c225bbb3-17e6-4633-9d9c-5646d3cecee0",
   "metadata": {},
   "source": [
    "##### Generation"
   ]
  },
  {
   "cell_type": "code",
   "execution_count": null,
   "id": "91debe62-f43d-423c-8712-50891d250caf",
   "metadata": {},
   "outputs": [],
   "source": [
    "# capacity will need to be calculated from generation and capacity factor\n",
    "generation = conn.runQuery(\n",
    "    get_query_by_name(queries, generation_query_name),\n",
    "    regions=[\n",
    "        # TODO need to use this\n",
    "    ]\n",
    ")\n",
    "generation['vintage'] = generation['technology'].str.slice(-4).astype(int)\n",
    "generation['technology'] = generation['technology'].str.slice(0, -10)\n",
    "generation['subsector.1'] = generation['subsector.1'].str.slice(0, -8)\n",
    "# convert EJ to GW\n",
    "generation['value'] = generation['value'] * EXAJOULES_TO_GIGAWATTS\n",
    "generation = generation.drop(columns=['subsector']).rename(columns={\n",
    "    'Year': 'year',\n",
    "    'Units': 'units',\n",
    "    'value': 'generation_GW',\n",
    "    'subsector.1': 'subsector',\n",
    "})\n",
    "generation = generation[[\n",
    "    'year', 'vintage', 'region', 'sector', 'subsector', 'technology', 'generation_GW'\n",
    "]].reset_index(drop=True)"
   ]
  },
  {
   "cell_type": "code",
   "execution_count": null,
   "id": "344afabe-0ab1-4c2f-bfc0-70011690e193",
   "metadata": {},
   "outputs": [],
   "source": [
    "generation#[(generation.region == 'CA') & (generation.year != generation.vintage)].technology.unique()"
   ]
  },
  {
   "cell_type": "markdown",
   "id": "cbf9f290-85fa-4ca2-8ef4-95c37fab8afc",
   "metadata": {},
   "source": [
    "##### Capacity Factor"
   ]
  },
  {
   "cell_type": "code",
   "execution_count": null,
   "id": "b6f0356d-a68e-4a8d-accf-757a607084b2",
   "metadata": {},
   "outputs": [],
   "source": [
    "# capacity factor by subsector and technology\n",
    "# some techs are for all regions and some are state specific\n",
    "capacity_factor_conventional = pd.read_csv(capacity_factor_conventional_file, comment='#')[['sector.name', 'subsector.name', 'year', 'capacity.factor', 'technology']]\n",
    "capacity_factor_conventional['region'] = [ALL_STATES for i in capacity_factor_conventional.index]\n",
    "capacity_factor_conventional = capacity_factor_conventional.explode('region', ignore_index=True)\n",
    "capacity_factor_conventional.rename(columns={\n",
    "    'sector.name': 'supplysector',\n",
    "    'subsector.name': 'subsector',\n",
    "}, inplace=True)\n",
    "capacity_factor_wind = pd.read_csv(capacity_factor_wind_file, comment='#')[['supplysector', 'subsector', 'year', 'capacity.factor', 'technology', 'region']]\n",
    "capacity_factor_pv = pd.read_csv(capacity_factor_pv_file, comment='#')[['supplysector', 'subsector', 'year', 'capacity.factor', 'technology', 'region']]\n",
    "capacity_factor_csp = pd.read_csv(capacity_factor_csp_file, comment='#')[['supplysector', 'subsector', 'year', 'capacity.factor', 'technology', 'region']]\n",
    "\n",
    "# the above renewable capacity factors are derived using oversimplified assumptions,\n",
    "# so we will replace them with the NREL assumptions\n",
    "nrel_renewables_capacity_factors = pd.read_csv(nrel_renewables_capacity_factor_file, comment='#')\n",
    "nrel_renewables_capacity_factors['State'] = nrel_renewables_capacity_factors['State'].str.lower().map({v.replace('_', ' ').lower(): k for k, v in STATE_ABBREVIATIONS_TO_NAMES.items()})\n",
    "\n",
    "# correct MS onshore by averaging nearby states\n",
    "nrel_renewables_capacity_factors.loc[\n",
    "    nrel_renewables_capacity_factors.index[nrel_renewables_capacity_factors.State == 'MS'],\n",
    "    'Onshore_Wind'\n",
    "] = nrel_renewables_capacity_factors[\n",
    "    nrel_renewables_capacity_factors.State.isin(['LA', 'AL', 'AR'])\n",
    "]['Onshore_Wind'].mean()\n",
    "\n",
    "# correct AL offshore by averages nearby states\n",
    "nrel_renewables_capacity_factors.loc[\n",
    "    nrel_renewables_capacity_factors.index[nrel_renewables_capacity_factors.State == 'AL'],\n",
    "    'Offshore_Wind'\n",
    "] = nrel_renewables_capacity_factors[\n",
    "    nrel_renewables_capacity_factors.State.isin(['MS', 'FL',])\n",
    "]['Offshore_Wind'].mean()\n",
    "\n",
    "# urban and rural utility scale PV appear to be the same for all WECC states, so just using urban here\n",
    "# divide by 1.3 to convert from AC to DC\n",
    "nrel_renewables_capacity_factors['Urban_Utility_scale_PV'] = nrel_renewables_capacity_factors['Urban_Utility_scale_PV'] / 1.3\n",
    "capacity_factor_pv['capacity.factor'] = capacity_factor_pv[['region']].merge(\n",
    "    nrel_renewables_capacity_factors[['State', 'Urban_Utility_scale_PV']], how='left', left_on='region', right_on='State'\n",
    ")['Urban_Utility_scale_PV'].values\n",
    "\n",
    "capacity_factor_csp['capacity.factor'] = capacity_factor_csp[['region']].merge(\n",
    "    nrel_renewables_capacity_factors[['State', 'CSP']], how='left', left_on='region', right_on='State'\n",
    ")['CSP'].values\n",
    "\n",
    "# for wind, need to split by onshore and offshore\n",
    "capacity_factor_wind_onshore = capacity_factor_wind[~capacity_factor_wind['technology'].str.contains('offshore')].copy()\n",
    "capacity_factor_wind_onshore['capacity.factor'] = capacity_factor_wind_onshore[['region']].merge(\n",
    "    nrel_renewables_capacity_factors[['State', 'Onshore_Wind']], how='left', left_on='region', right_on='State'\n",
    ")['Onshore_Wind'].values\n",
    "capacity_factor_wind_offshore = capacity_factor_wind[capacity_factor_wind['technology'].str.contains('offshore')].copy()\n",
    "capacity_factor_wind_offshore['capacity.factor'] = capacity_factor_wind_offshore[['region']].merge(\n",
    "    nrel_renewables_capacity_factors[['State', 'Offshore_Wind']], how='left', left_on='region', right_on='State'\n",
    ")['Offshore_Wind'].values\n",
    "\n",
    "capacity_factors = pd.concat([\n",
    "    capacity_factor_conventional[~capacity_factor_conventional.technology.str.contains('base_storage')],\n",
    "    capacity_factor_wind_onshore, capacity_factor_wind_offshore,\n",
    "    capacity_factor_pv, capacity_factor_csp,\n",
    "])\n",
    "\n",
    "capacity_factors.rename(columns={\n",
    "    'supplysector': 'sector',\n",
    "    'capacity.factor': 'capacity_factor',\n",
    "}, inplace=True)\n",
    "\n",
    "capacity_factors = capacity_factors[['year', 'region', 'sector', 'subsector', 'technology', 'capacity_factor']].reset_index(drop=True)"
   ]
  },
  {
   "cell_type": "code",
   "execution_count": null,
   "id": "76b18377-2408-47cf-bd55-9cc208dd53ea",
   "metadata": {},
   "outputs": [],
   "source": [
    "capacity_factors#[capacity_factors.technology.str.contains('wind') & (capacity_factors.region.isin(['MS', 'AL'])) & (capacity_factors.capacity_factor == 0)]# & (capacity_factors.year == 2025)]"
   ]
  },
  {
   "cell_type": "code",
   "execution_count": null,
   "id": "20fa209b-b058-480b-bcc6-878e490c4320",
   "metadata": {},
   "outputs": [],
   "source": []
  },
  {
   "cell_type": "markdown",
   "id": "2b429bfa-4946-4e8f-a615-c3686b026eb7",
   "metadata": {},
   "source": [
    "##### Capacity"
   ]
  },
  {
   "cell_type": "code",
   "execution_count": null,
   "id": "836399b5-d799-4560-b53c-c9d6c422011e",
   "metadata": {},
   "outputs": [],
   "source": [
    "# first join where region is all\n",
    "all_regions = generation.merge(capacity_factors[capacity_factors.region == '*'][['year', 'sector', 'subsector', 'technology', 'capacity_factor']], how='left', on=['year', 'sector', 'subsector', 'technology'])\n",
    "# then join on states specifically\n",
    "state_regions = generation.merge(capacity_factors[capacity_factors.region != '*'][['year', 'region', 'sector', 'subsector', 'technology', 'capacity_factor']], how='left', on=['year', 'region', 'sector', 'subsector', 'technology'])\n",
    "capacity = state_regions.combine_first(all_regions)\n",
    "del all_regions\n",
    "del state_regions\n",
    "# HACK for hydro and other missing capacity factors TODO fix it?\n",
    "capacity.fillna({'capacity_factor': 0.38}, inplace=True)\n",
    "capacity['capacity_GW'] = (capacity['generation_GW'] / capacity['capacity_factor']) # TODO what's the right way to use cap factor if at all?\n",
    "# sum generation and capacity over sectors... TODO is this correct?\n",
    "capacity = capacity.drop(columns=['sector']).groupby(['year', 'vintage', 'region', 'technology']).aggregate({\n",
    "    'generation_GW': 'sum',\n",
    "    #'capacity_factor': 'first',\n",
    "    'capacity_GW': 'sum',\n",
    "}).reset_index()\n",
    "capacity['year'] = capacity['year'].astype(int)\n",
    "capacity['vintage'] = capacity['vintage'].astype(int)\n",
    "capacity = pd.concat([\n",
    "    standardize_format(capacity, param='elec_cap_usa_GW', classLabel1='subsector', units='GW', valueColumn='capacity_GW'),\n",
    "    #standardize_format(capacity, param='elec_gen_usa_GW', classLabel1='subsector', units='GW', valueColumn='generation_GW'),\n",
    "    standardize_format(capacity_factors, param='elec_capacity_factor_usa_in', classLabel1='investment_segment', class1Column='sector', units='Capacity Factor', valueColumn='capacity_factor', vintageColumn='year'),\n",
    "])\n"
   ]
  },
  {
   "cell_type": "code",
   "execution_count": null,
   "id": "bdc4d784-13f3-438d-9270-8f12df9775e4",
   "metadata": {},
   "outputs": [],
   "source": [
    "capacity#[capacity.class2.str.contains('offshore') & (capacity.param == 'elec_capacity_factor_usa_in') & (capacity.x == 2035)]"
   ]
  },
  {
   "cell_type": "code",
   "execution_count": null,
   "id": "046368c9-bfb6-461b-9209-b31637f2815a",
   "metadata": {},
   "outputs": [],
   "source": []
  },
  {
   "cell_type": "markdown",
   "id": "069606fe-554a-4860-8832-2b80965f78f9",
   "metadata": {},
   "source": [
    "## Heat Rate"
   ]
  },
  {
   "cell_type": "code",
   "execution_count": null,
   "id": "e8380f12-9bd5-49f0-b733-dbb82ae03727",
   "metadata": {},
   "outputs": [],
   "source": []
  },
  {
   "cell_type": "code",
   "execution_count": null,
   "id": "4f30b0d2-69c4-435d-b410-81f9854b844d",
   "metadata": {},
   "outputs": [],
   "source": [
    "# heat rate is based on technology and input fuel\n",
    "# TODO something is wrong with heat rate vintage\n",
    "heat_rate = conn.runQuery(get_query_by_name(queries, heat_rate_query_name))\n",
    "heat_rate['vintage'] = heat_rate['IO-coefficient'].str.slice(-4).astype(int)\n",
    "# convert to BTU per kWh\n",
    "# what unit is the original??\n",
    "heat_rate['value'] = heat_rate['value'] * BRITISH_THERMAL_UNITS_PER_KILOWATT_HOUR\n",
    "heat_rate.rename(columns={\n",
    "    'sector.1': 'technology',\n",
    "    'Units': 'units',\n",
    "    'Year': 'year',\n",
    "    'input': 'fuel_type',\n",
    "    'value': 'heat_rate_BTUperkWh',\n",
    "}, inplace=True)\n",
    "heat_rate = heat_rate[(~heat_rate.fuel_type.str.contains('backup|credits|water'))][[\n",
    "    'year', 'vintage', 'region', 'technology', 'fuel_type', 'heat_rate_BTUperkWh'\n",
    "]].reset_index(drop=True)\n",
    "# use this to create a mapping of technology to fuel types\n",
    "tech_to_fuel = heat_rate[['technology', 'fuel_type']].copy().drop_duplicates(ignore_index=True)\n",
    "# transform to expected format\n",
    "heat_rate = standardize_format(heat_rate, param='elec_heat_rate_BTUperkWh', classLabel1='subsector', class1Column='fuel_type', units='Heat Rate (BTU per kWh)', valueColumn='heat_rate_BTUperkWh')\n"
   ]
  },
  {
   "cell_type": "code",
   "execution_count": null,
   "id": "34980d16-205d-4764-b601-b6bc823f1cd0",
   "metadata": {},
   "outputs": [],
   "source": [
    "heat_rate[(heat_rate.x == 2035) & (heat_rate.subRegion == 'WA')]"
   ]
  },
  {
   "cell_type": "code",
   "execution_count": null,
   "id": "4dbceac1-efd5-49ba-9d80-6e3cd18532b9",
   "metadata": {},
   "outputs": [],
   "source": []
  },
  {
   "cell_type": "markdown",
   "id": "cc1f44a5-0ec4-4161-ab58-41b778f1bd33",
   "metadata": {},
   "source": [
    "## Fuel Prices"
   ]
  },
  {
   "cell_type": "code",
   "execution_count": null,
   "id": "e73cd2bc-14b4-4958-9731-83c997d7372e",
   "metadata": {},
   "outputs": [],
   "source": [
    "# fuel prices are provided for biomass per state and for fossils per grid region\n",
    "prices = conn.runQuery(get_query_by_name(queries, prices_query_name))\n",
    "# convert 1975$ to 2015$ following gcamextractor gdp_deflator\n",
    "# convert GJ to MBTU\n",
    "prices['value'] = prices['value'] * deflate_gdp(2015, 1975) / GIGAJOULES_TO_MEGA_BRITISH_THERMAL_UNITS\n",
    "prices.rename(columns={\n",
    "    'sector': 'fuel_type',\n",
    "    'value': 'fuel_price_2015USDperMBTU',\n",
    "    'Year': 'year',\n",
    "}, inplace=True)\n",
    "prices = prices[prices.fuel_type.isin(['regional biomass', 'refined liquids industrial', 'regional coal', 'wholesale gas'])][[\n",
    "    'year', 'region', 'fuel_type', 'fuel_price_2015USDperMBTU'\n",
    "]].reset_index(drop=True)\n",
    "# for biomass only, map USA to all states\n",
    "# for the other fuels, map grid region to state\n",
    "bio = prices[(prices['fuel_type'] == 'regional biomass') & (prices['region'] == 'USA')].copy()\n",
    "bio['region'] = [ALL_STATES for i in bio.index]\n",
    "bio = bio.explode('region', ignore_index=True)\n",
    "prices = pd.concat([\n",
    "    bio,\n",
    "    grid_region_to_state(prices).sort_values(['region', 'fuel_type', 'year']).reset_index(drop=True),\n",
    "]).reset_index(drop=True)\n",
    "# fuel price escalation rate is (<price> - <price last period>) / <price last period>\n",
    "price_escalation_rate = get_escalation_rate(prices, 'fuel_price_2015USDperMBTU', ['region', 'fuel_type'], 'fuel_price_escalation_rate_fraction')\n",
    "# expand to technologies\n",
    "prices = tech_to_fuel.merge(prices, how='left', on='fuel_type')\n",
    "prices = prices[prices.region.notna()]\n",
    "price_escalation_rate = tech_to_fuel.merge(price_escalation_rate, how='left', on='fuel_type')\n",
    "price_escalation_rate = price_escalation_rate[price_escalation_rate.region.notna()]\n",
    "# transform to expected format\n",
    "prices = standardize_format(prices, param='elec_fuel_price_2015USDperMBTU', classLabel1='fuel', class1Column='fuel_type', units='Fuel Cost (2015 USD/MBTU)', valueColumn='fuel_price_2015USDperMBTU', vintageColumn='year')\n",
    "price_escalation_rate = standardize_format(price_escalation_rate, param='elec_fuel_price_escl_rate_fraction', classLabel1='fuel', class1Column='fuel_type', units='Fuel Price Escalation Rate (fraction)', valueColumn='fuel_price_escalation_rate_fraction', vintageColumn='year')\n"
   ]
  },
  {
   "cell_type": "code",
   "execution_count": null,
   "id": "1aa4438b-6c63-4e73-9354-139f61c5d1be",
   "metadata": {},
   "outputs": [],
   "source": [
    "prices"
   ]
  },
  {
   "cell_type": "code",
   "execution_count": null,
   "id": "0eccbad9-9074-4883-9de6-747bc4df2154",
   "metadata": {},
   "outputs": [],
   "source": [
    "price_escalation_rate"
   ]
  },
  {
   "cell_type": "code",
   "execution_count": null,
   "id": "badaa6ad-9dca-4698-91a4-e635c4295ddc",
   "metadata": {},
   "outputs": [],
   "source": []
  },
  {
   "cell_type": "markdown",
   "id": "196514d0-ee05-42c6-a08c-a4e27a904c5e",
   "metadata": {},
   "source": [
    "## Fixed and Variable O&M Costs"
   ]
  },
  {
   "cell_type": "markdown",
   "id": "a1588ed3-ca3b-4cfc-b443-4ff50fb4d36d",
   "metadata": {},
   "source": [
    "##### Fixed O&M"
   ]
  },
  {
   "cell_type": "code",
   "execution_count": null,
   "id": "2db2dc43-9ee2-42cf-8c9c-ec9f0291151d",
   "metadata": {},
   "outputs": [],
   "source": [
    "fixed_operation_and_maintenance_cost = [\n",
    "    pd.read_csv(f, comment='#') for f in fixed_operation_and_maintenance_cost_files\n",
    "]\n",
    "for i, df in enumerate(fixed_operation_and_maintenance_cost):\n",
    "    # the original unit 1975$/kW-year\n",
    "    df['OM.fixed'] = df['OM.fixed'] * deflate_gdp(2015, 1975) * 1000 / 8760\n",
    "    df.rename(columns={\n",
    "        'intermittent.technology': 'technology',\n",
    "        'OM.fixed': 'fixed_om_2015USDperMWh'\n",
    "    }, inplace=True)\n",
    "    fixed_operation_and_maintenance_cost[i] = df[['year', 'technology', 'fixed_om_2015USDperMWh']].drop_duplicates(ignore_index=True).reset_index(drop=True)\n",
    "fixed_operation_and_maintenance_cost = pd.concat(fixed_operation_and_maintenance_cost).sort_values(['technology', 'year']).reset_index(drop=True)\n",
    "# expand to all states\n",
    "fixed_operation_and_maintenance_cost['region'] = [ALL_STATES for i in fixed_operation_and_maintenance_cost.index]\n",
    "fixed_operation_and_maintenance_cost = fixed_operation_and_maintenance_cost.explode('region', ignore_index=True)\n",
    "# transform to expected format\n",
    "fixed_operation_and_maintenance_cost = standardize_format(fixed_operation_and_maintenance_cost, param='elec_fixed_om_2015USDperMWh', classLabel1='subsector', units='Fixed OnM Cost (2015 USD/MWh)', valueColumn='fixed_om_2015USDperMWh', vintageColumn='year')\n"
   ]
  },
  {
   "cell_type": "code",
   "execution_count": null,
   "id": "c3833e8b-8100-4519-8402-a7164027c560",
   "metadata": {},
   "outputs": [],
   "source": [
    "fixed_operation_and_maintenance_cost"
   ]
  },
  {
   "cell_type": "markdown",
   "id": "ef8c5ca2-013a-4336-a546-e58d4fdecae9",
   "metadata": {},
   "source": [
    "##### Variable O&M"
   ]
  },
  {
   "cell_type": "code",
   "execution_count": null,
   "id": "4acd7e96-aee4-4cd7-967a-defc29209a86",
   "metadata": {},
   "outputs": [],
   "source": [
    "variable_operation_and_maintenance_cost = [\n",
    "    pd.read_csv(f, comment='#') for f in variable_operation_and_maintenance_cost_files\n",
    "]\n",
    "# used to expand intermittent technologies to all subtypes\n",
    "tech_mapping = pd.read_csv(tech_mapping_file, comment='#')[['Electric.sector.technology', 'to.technology']]\n",
    "for i, df in enumerate(variable_operation_and_maintenance_cost):\n",
    "    # original unit 1975$/MWh\n",
    "    df['OM.var'] = df['OM.var'] * deflate_gdp(2015, 1975)\n",
    "    if 'intermittent.technology' in df.columns:\n",
    "        # need to expand the intermittent technologies to include all the subtypes\n",
    "        df = df.merge(tech_mapping, how='left', left_on='intermittent.technology', right_on='Electric.sector.technology').rename(columns={\n",
    "            'to.technology': 'technology'\n",
    "        })\n",
    "    df.rename(columns={\n",
    "        'OM.var': 'variable_om_2015USDperMWh'\n",
    "    }, inplace=True)\n",
    "    variable_operation_and_maintenance_cost[i] = df[['technology', 'year', 'variable_om_2015USDperMWh']].drop_duplicates(ignore_index=True).reset_index(drop=True)\n",
    "variable_operation_and_maintenance_cost = pd.concat(variable_operation_and_maintenance_cost).sort_values(['technology', 'year']).reset_index(drop=True)\n",
    "# variable o&m escalation rate is (<var o&m> - <var o&m last period>) / <var o&m last period>\n",
    "variable_operation_and_maintenance_cost_escalation_rate = get_escalation_rate(variable_operation_and_maintenance_cost, 'variable_om_2015USDperMWh', ['technology'], 'variable_om_escl_rate_fraction')\n",
    "# expand to all regions\n",
    "variable_operation_and_maintenance_cost['region'] = [ALL_STATES for i in variable_operation_and_maintenance_cost.index]\n",
    "variable_operation_and_maintenance_cost = variable_operation_and_maintenance_cost.explode('region', ignore_index=True)\n",
    "variable_operation_and_maintenance_cost_escalation_rate['region'] = [ALL_STATES for i in variable_operation_and_maintenance_cost_escalation_rate.index]\n",
    "variable_operation_and_maintenance_cost_escalation_rate = variable_operation_and_maintenance_cost_escalation_rate.explode('region', ignore_index=True)\n",
    "# transform to expected columns\n",
    "variable_operation_and_maintenance_cost = standardize_format(variable_operation_and_maintenance_cost, param='elec_variable_om_2015USDperMWh', classLabel1='subsector', units='Variable OnM Cost (2015 USD/MWh)', valueColumn='variable_om_2015USDperMWh', vintageColumn='year')\n",
    "variable_operation_and_maintenance_cost_escalation_rate = standardize_format(variable_operation_and_maintenance_cost_escalation_rate, param='elec_variable_om_escl_rate_fraction', classLabel1='subsector', units='Variable OnM Cost Escalation Rate (fraction)', valueColumn='variable_om_escl_rate_fraction', vintageColumn='year')\n"
   ]
  },
  {
   "cell_type": "code",
   "execution_count": null,
   "id": "e599e807-dda7-4bec-b03e-c176f6fb2038",
   "metadata": {},
   "outputs": [],
   "source": [
    "variable_operation_and_maintenance_cost"
   ]
  },
  {
   "cell_type": "code",
   "execution_count": null,
   "id": "62d6dbe5-8eb3-4a70-93ad-75bbda186264",
   "metadata": {},
   "outputs": [],
   "source": [
    "variable_operation_and_maintenance_cost_escalation_rate"
   ]
  },
  {
   "cell_type": "code",
   "execution_count": null,
   "id": "54954924-cab9-4a51-af0f-a4d945167de8",
   "metadata": {},
   "outputs": [],
   "source": []
  },
  {
   "cell_type": "markdown",
   "id": "c7c6c5df-4b67-4c5a-a459-ef6ec6d812a1",
   "metadata": {},
   "source": [
    "## CO2 Content"
   ]
  },
  {
   "cell_type": "code",
   "execution_count": null,
   "id": "42ce5315-5dfd-4f99-8627-17936f00ab74",
   "metadata": {},
   "outputs": [],
   "source": [
    "carbon_content = [\n",
    "    pd.read_csv(f, comment='#') for f in carbon_content_files\n",
    "]\n",
    "for i, df in enumerate(carbon_content):\n",
    "    if not 'WA' in df['region'].values:\n",
    "        df = df[df['region'] == 'USA'].drop_duplicates(ignore_index=True)\n",
    "        # expand to all states\n",
    "        df['region'] = [ALL_STATES for i in df.index]\n",
    "        df = df.explode('region', ignore_index=True)\n",
    "    # TODO is this conversion correct? what's going on here? Zarrar: original units are kg carbon / GJ\n",
    "    df['PrimaryFuelCO2Coef'] = df['PrimaryFuelCO2Coef'] * ATOMIC_WEIGHT_OF_CO2_PER_ATOMIC_WEIGHT_OF_CARBON * TONS_PER_KG / (MEGAWATT_HOURS_PER_GIGAJOULE * MEGA_BRITISH_THERMAL_UNITS_PER_MEGAWATT_HOUR)\n",
    "    df.rename(columns={\n",
    "        'PrimaryFuelCO2Coef': 'fuel_co2_content_tonsperMBTU',\n",
    "        'PrimaryFuelCO2Coef.name': 'fuel_type'\n",
    "    }, inplace=True)\n",
    "    carbon_content[i] = df[['region', 'fuel_type', 'fuel_co2_content_tonsperMBTU']].reset_index(drop=True)\n",
    "carbon_content = pd.concat(carbon_content).reset_index(drop=True)\n",
    "# remove remaining USA entries\n",
    "carbon_content = carbon_content[carbon_content['region'] != 'USA']\n",
    "# expand to technologies\n",
    "carbon_content = tech_to_fuel.merge(carbon_content, how='left', on='fuel_type')\n",
    "carbon_content = carbon_content[carbon_content.region.notna()]\n",
    "# transform to expected format\n",
    "carbon_content = standardize_format(carbon_content, param='elec_fuel_co2_content_tonsperMBTU', classLabel1='fuel', class1Column='fuel_type', units='Fuel CO2 Content (Tons per MBTU)', valueColumn='fuel_co2_content_tonsperMBTU')\n",
    "# repeat the rows for each half-decade\n",
    "for y in np.arange(2020, 2105, 5):\n",
    "    copy = carbon_content[carbon_content.x == 2015].copy()\n",
    "    copy['x'] = y\n",
    "    copy['vintage'] = f'Vint_{y}'\n",
    "    carbon_content = pd.concat([carbon_content, copy])"
   ]
  },
  {
   "cell_type": "code",
   "execution_count": null,
   "id": "8fb7fb65-325c-4a24-9283-16e6cb4bf48e",
   "metadata": {},
   "outputs": [],
   "source": [
    "carbon_content#[(carbon_content.subRegion == 'AZ') & (carbon_content.x == 2020) & (carbon_content.class2 == 'coal (conv pul) (once through)')]"
   ]
  },
  {
   "cell_type": "code",
   "execution_count": null,
   "id": "98594a21-c45a-4055-a6e7-71b821a64cc6",
   "metadata": {},
   "outputs": [],
   "source": []
  },
  {
   "cell_type": "markdown",
   "id": "927b6aa0-5c54-416b-a190-b6d79961f97a",
   "metadata": {},
   "source": [
    "## CO2 Capture"
   ]
  },
  {
   "cell_type": "code",
   "execution_count": null,
   "id": "cc774fb7-03d0-4d6c-8c2f-f78988de1a68",
   "metadata": {},
   "outputs": [],
   "source": [
    "carbon_capture = pd.read_csv(carbon_capture_file, comment='#')\n",
    "carbon_capture.rename(columns={\n",
    "    'remove.fraction': 'carbon_capture_rate_fraction',\n",
    "}, inplace=True)\n",
    "carbon_capture = carbon_capture[['year', 'technology', 'carbon_capture_rate_fraction']].reset_index(drop=True)\n",
    "# expand to all states\n",
    "carbon_capture['region'] = [ALL_STATES for i in carbon_capture.index]\n",
    "carbon_capture = carbon_capture.explode('region', ignore_index=True)\n",
    "# transform to expected format\n",
    "carbon_capture = standardize_format(carbon_capture, param='elec_carbon_capture_rate_fraction', classLabel1='subsector', units='Carbon Capture Rate (fraction)', valueColumn='carbon_capture_rate_fraction', vintageColumn='year')"
   ]
  },
  {
   "cell_type": "code",
   "execution_count": null,
   "id": "8ada9f6e-dca7-41f1-be6c-816966596cca",
   "metadata": {},
   "outputs": [],
   "source": [
    "carbon_capture"
   ]
  },
  {
   "cell_type": "code",
   "execution_count": null,
   "id": "d2ec31ea-a4ad-4326-87dc-02fa7579cc7b",
   "metadata": {},
   "outputs": [],
   "source": []
  },
  {
   "cell_type": "markdown",
   "id": "39ce541b-7192-4bd3-a4c7-33ad76661afc",
   "metadata": {},
   "source": [
    "## Lifetime and Lifetime Parameters"
   ]
  },
  {
   "cell_type": "markdown",
   "id": "a784ca67-964f-4656-9872-71c65971a0c5",
   "metadata": {},
   "source": [
    "##### Lifetime years"
   ]
  },
  {
   "cell_type": "code",
   "execution_count": null,
   "id": "e961cecc-07ac-4e0a-96a3-1aa7d4396a4d",
   "metadata": {},
   "outputs": [],
   "source": [
    "lifetime = [\n",
    "    pd.read_csv(f, comment='#') for f in lifetime_files\n",
    "]\n",
    "for i, df in enumerate(lifetime):\n",
    "    df.rename(columns={\n",
    "        'lifetime': 'lifetime_yr',\n",
    "        'intermittent.technology': 'technology'\n",
    "    }, inplace=True)\n",
    "    lifetime[i] = df[['year', 'technology', 'lifetime_yr']].reset_index(drop=True)\n",
    "lifetime = pd.concat(lifetime).reset_index(drop=True)\n",
    "# expand to all states\n",
    "lifetime['region'] = [ALL_STATES for i in lifetime.index]\n",
    "lifetime = lifetime.explode('region', ignore_index=True)\n",
    "# transform to expected format\n",
    "lifetime = standardize_format(lifetime, param='elec_lifetime_yr', classLabel1='subsector', units='lifetime (yr)', valueColumn='lifetime_yr', vintageColumn='year').drop_duplicates()"
   ]
  },
  {
   "cell_type": "code",
   "execution_count": null,
   "id": "bd2689ba-a1fd-4592-a136-dfcead7f4e5b",
   "metadata": {},
   "outputs": [],
   "source": [
    "lifetime#[(lifetime.subRegion == 'AZ') & (lifetime.x == 2020) & (lifetime.class2 == 'coal (conv pul) (once through)')]"
   ]
  },
  {
   "cell_type": "code",
   "execution_count": null,
   "id": "a84594ce-c557-448a-b9b4-f143d3eca37c",
   "metadata": {},
   "outputs": [],
   "source": []
  },
  {
   "cell_type": "markdown",
   "id": "e46a65a3-81ac-4d87-b5f9-4ac36ef01558",
   "metadata": {},
   "source": [
    "### Combine everything and write to file"
   ]
  },
  {
   "cell_type": "code",
   "execution_count": null,
   "id": "348943fd-ff28-4a9a-9f9b-26b678e95cdc",
   "metadata": {},
   "outputs": [],
   "source": [
    "output = pd.concat([\n",
    "    capacity,\n",
    "    heat_rate,\n",
    "    prices,\n",
    "    price_escalation_rate,\n",
    "    fixed_operation_and_maintenance_cost,\n",
    "    variable_operation_and_maintenance_cost,\n",
    "    variable_operation_and_maintenance_cost_escalation_rate,\n",
    "    carbon_content,\n",
    "    carbon_capture,\n",
    "    lifetime,\n",
    "])\n",
    "# filter to WECC states\n",
    "#output = output[output.subRegion.isin(['CA', 'OR', 'WA', 'AZ', 'NV', 'WY', 'ID', 'UT', 'NM', 'CO', 'MT'])]\n",
    "#output = output[output.vintage.str.slice(-4).astype(int) >= 2020]"
   ]
  },
  {
   "cell_type": "code",
   "execution_count": null,
   "id": "23de67cf-8067-4f57-b5c6-843b64a73524",
   "metadata": {},
   "outputs": [],
   "source": [
    "output[(output.param == 'elec_cap_usa_GW') & (output.subRegion == 'WA') & (output.class2.str.contains('CCS'))]"
   ]
  },
  {
   "cell_type": "code",
   "execution_count": null,
   "id": "731ea6d9-fa69-41eb-afd4-cf8eebc99cea",
   "metadata": {},
   "outputs": [],
   "source": [
    "output.to_csv(f'{gcam_prefix}{gcam_scenario}_DataTable.csv', index=False)"
   ]
  },
  {
   "cell_type": "code",
   "execution_count": null,
   "id": "eebe2447-c606-48f3-a50c-3a648cfc7c76",
   "metadata": {},
   "outputs": [],
   "source": []
  },
  {
   "cell_type": "code",
   "execution_count": null,
   "id": "184202a6-7c4b-470f-abe7-a43aa7bb9a43",
   "metadata": {},
   "outputs": [],
   "source": []
  },
  {
   "cell_type": "code",
   "execution_count": null,
   "id": "9ca584f1-3696-40a7-a62b-e904d3400126",
   "metadata": {},
   "outputs": [],
   "source": []
  },
  {
   "cell_type": "code",
   "execution_count": null,
   "id": "ce37dae3-0c2b-41fe-a93a-920c7b920304",
   "metadata": {},
   "outputs": [],
   "source": []
  },
  {
   "cell_type": "code",
   "execution_count": null,
   "id": "e740c9da-fe41-4c9e-b71e-5b04b15892ce",
   "metadata": {},
   "outputs": [],
   "source": []
  },
  {
   "cell_type": "code",
   "execution_count": null,
   "id": "e2daf262-5b09-4278-aeb4-44917c42148d",
   "metadata": {},
   "outputs": [],
   "source": []
  },
  {
   "cell_type": "code",
   "execution_count": null,
   "id": "61dabfe7-e426-4353-aca4-8be6c56afc48",
   "metadata": {},
   "outputs": [],
   "source": []
  },
  {
   "cell_type": "code",
   "execution_count": null,
   "id": "f9a11e69-0498-4025-9e83-b1b111db3c85",
   "metadata": {},
   "outputs": [],
   "source": []
  },
  {
   "cell_type": "code",
   "execution_count": null,
   "id": "162d1a0a-797a-459e-a0c0-d329d9ec6324",
   "metadata": {},
   "outputs": [],
   "source": []
  },
  {
   "cell_type": "code",
   "execution_count": null,
   "id": "f3be3bfe-7487-461d-a1da-deb7e6fea0f7",
   "metadata": {},
   "outputs": [],
   "source": []
  },
  {
   "cell_type": "code",
   "execution_count": null,
   "id": "b2b5a201-32d6-4f53-b0fa-206e00201a31",
   "metadata": {},
   "outputs": [],
   "source": []
  }
 ],
 "metadata": {
  "kernelspec": {
   "display_name": "godeeep",
   "language": "python",
   "name": "godeeep"
  },
  "language_info": {
   "codemirror_mode": {
    "name": "ipython",
    "version": 3
   },
   "file_extension": ".py",
   "mimetype": "text/x-python",
   "name": "python",
   "nbconvert_exporter": "python",
   "pygments_lexer": "ipython3",
   "version": "3.9.5"
  }
 },
 "nbformat": 4,
 "nbformat_minor": 5
}
